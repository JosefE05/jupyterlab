{
 "cells": [
  {
   "cell_type": "markdown",
   "id": "450b522e-7499-4be7-abc5-12bede03f376",
   "metadata": {},
   "source": [
    "# Week 2: Simple Introductory Python Program in JupyterLab"
   ]
  },
  {
   "cell_type": "markdown",
   "id": "cce6e877-923d-48e9-8e2d-a5cb0a5a9c93",
   "metadata": {},
   "source": [
    "Let's start with some simple markdown text:\n",
    "* A bullet\n",
    "* Another bullet\n",
    "* A third bullet"
   ]
  },
  {
   "cell_type": "markdown",
   "id": "163d8571-8539-45a2-9050-91196b7c4534",
   "metadata": {},
   "source": [
    "## A numbered list of things to do:\n",
    "1. Write a print statement to display a title.\n",
    "2. Write an input statement to request data.\n",
    "3. Write a print statement which uses the data"
   ]
  },
  {
   "cell_type": "code",
   "execution_count": null,
   "id": "18a1cea5-5b73-494a-9476-5832c7b65174",
   "metadata": {},
   "outputs": [],
   "source": []
  },
  {
   "cell_type": "code",
   "execution_count": 1,
   "id": "70c6b325-7d73-4095-ba0f-04c9c2ae823a",
   "metadata": {},
   "outputs": [
    {
     "name": "stdout",
     "output_type": "stream",
     "text": [
      "My First program\n"
     ]
    },
    {
     "name": "stdin",
     "output_type": "stream",
     "text": [
      "What is your name? Josef\n"
     ]
    },
    {
     "name": "stdout",
     "output_type": "stream",
     "text": [
      "Hi Josef, it is so nice to meet you!\n"
     ]
    }
   ],
   "source": [
    "print(\"My First program\")\n",
    "name = input(\"What is your name?\")\n",
    "print(f\"Hi {name}, it is so nice to meet you!\")"
   ]
  },
  {
   "cell_type": "markdown",
   "id": "27d2bb03-91f4-42f7-a8c8-80dd86d2bc2a",
   "metadata": {
    "jp-MarkdownHeadingCollapsed": true
   },
   "source": [
    "## Using f-strings in Python\n",
    "Recently (Python 3.6), Python introduced a concept called f-strings, to simplify formatted printing. As you can see from the example above, an f-string begins with an f, followed by a string, hence the name. Variables are contained in \"{}\", in the string itself. And you don't have to use the word, \"print\", you may just use f\"\" as in:"
   ]
  },
  {
   "cell_type": "code",
   "execution_count": 2,
   "id": "51c5c1e1-1a3a-49ba-b407-7673da6df04d",
   "metadata": {},
   "outputs": [
    {
     "data": {
      "text/plain": [
       "'This is an f-string, Lief'"
      ]
     },
     "execution_count": 2,
     "metadata": {},
     "output_type": "execute_result"
    }
   ],
   "source": [
    "f\"This is an f-string, {name}\""
   ]
  },
  {
   "cell_type": "markdown",
   "id": "ec0058b5-abbb-4897-ab29-340f5d262249",
   "metadata": {},
   "source": [
    "### Formatting using f-strings\n",
    "Formatting may also be performed Python's formatting specification found [here](https://docs.python.org/3/library/string.html#format-specification-mini-language). It can be a bit complicated, so I encourage you to review the examples."
   ]
  },
  {
   "cell_type": "markdown",
   "id": "f0b4d1f9-f026-4933-8861-03db02d9debc",
   "metadata": {},
   "source": [
    "## Assignment\n",
    "Using the information above, along with what you have learned from Part 1 of \"*Learn Python...*\", write some addition cells which use both *Markdown* text for formatting and *Python* for programming.\n",
    "\n",
    "### Examples:\n",
    "* A program which asks what the weather is like, and do you like it?\n",
    "* A program which asks for the major ingredients of a receipe you like.\n",
    "* Examples from page 22 of the book \"*Learn Python...*\""
   ]
  },
  {
   "cell_type": "code",
   "execution_count": 9,
   "id": "a668fa0d-84db-4dff-9bff-1b21ca806d2d",
   "metadata": {},
   "outputs": [
    {
     "name": "stdin",
     "output_type": "stream",
     "text": [
      "What's the weather like? sunny\n",
      "Do you like it? YES\n"
     ]
    },
    {
     "name": "stdout",
     "output_type": "stream",
     "text": [
      "Enjoy while it's sunny!\n"
     ]
    }
   ],
   "source": [
    "weather = input(\"What's the weather like?\")\n",
    "like = input(\"Do you like it?\")\n",
    "if like.lower()==\"yes\":\n",
    "    print(f\"Enjoy while it's {weather}!\")\n",
    "elif like.lower()==\"no\":\n",
    "    print(f\"Hopefully it will stop being {weather} soon!\")\n",
    "else:\n",
    "    print(\"What are you talking about?\")"
   ]
  },
  {
   "cell_type": "code",
   "execution_count": 10,
   "id": "f873dcbb-d746-4a7e-bb9a-011c9f5a6617",
   "metadata": {},
   "outputs": [
    {
     "name": "stdin",
     "output_type": "stream",
     "text": [
      "What is a recipe you like? pasta\n",
      "What are the major ingredients in pasta pasta, cheese, butter\n"
     ]
    },
    {
     "name": "stdout",
     "output_type": "stream",
     "text": [
      "I'm going to make pasta with pasta, cheese, butter\n"
     ]
    }
   ],
   "source": [
    "recipe = input(\"What is a recipe you like?\")\n",
    "ingredients = input(f\"What are the major ingredients in {recipe}?\")\n",
    "print(f\"I'm going to make {recipe} with {ingredients}.\")"
   ]
  },
  {
   "cell_type": "code",
   "execution_count": null,
   "id": "76888ef5-d2e5-4552-8cbc-0a8f6d0880b8",
   "metadata": {},
   "outputs": [],
   "source": [
    "print(\"Welcome to the gym\")\n",
    "name = input(\"What's your name\")\n"
   ]
  },
  {
   "cell_type": "code",
   "execution_count": null,
   "id": "3b2c0315-1fcf-4b0a-9bf4-d0e174ac6a2e",
   "metadata": {},
   "outputs": [],
   "source": [
    "print(\"Welcome to the bookstore\")\n",
    "bookName = input(\"What's the name of the book you want?\")\n",
    "bookAuthor = input(\"Who's the author?\")\n",
    "print(f\"Here's {bookName} by {bookAuthor}. Enjoy your new book!\")"
   ]
  },
  {
   "cell_type": "code",
   "execution_count": null,
   "id": "52a45837-4f9d-49c0-b648-7c9ca8ecf62d",
   "metadata": {},
   "outputs": [],
   "source": [
    "#Where are you from? Ask a person what country they come from and where they live. Then print\n",
    "#out three sentences like in cell 5 of the code in this chapter.\n",
    "name = input(\"What's your name?\")\n",
    "country = input(\"What country do you come from?\")\n",
    "place = input(\"Where do you live?\")\n",
    "print(f\"{name} comes from {country}, and lives in {place}\")"
   ]
  },
  {
   "cell_type": "code",
   "execution_count": null,
   "id": "329ffeb3-6f9e-40c3-bd35-99c88aca6e94",
   "metadata": {},
   "outputs": [],
   "source": [
    "name = input(\"What's your name?\")\n",
    "song = input(\"What's your favorite song?\")\n",
    "singer = input(\"Who's your favorite singer?\")\n",
    "print(f\"{name}'s favorite singer is {singer} and favorite song is {song}\")"
   ]
  }
 ],
 "metadata": {
  "kernelspec": {
   "display_name": "Python 3 (ipykernel)",
   "language": "python",
   "name": "python3"
  },
  "language_info": {
   "codemirror_mode": {
    "name": "ipython",
    "version": 3
   },
   "file_extension": ".py",
   "mimetype": "text/x-python",
   "name": "python",
   "nbconvert_exporter": "python",
   "pygments_lexer": "ipython3",
   "version": "3.8.16"
  }
 },
 "nbformat": 4,
 "nbformat_minor": 5
}
